student_heights = input("Input a list of student heights ").split()
height_sum=0
count=0
for n in range(0, len(student_heights)):
  student_heights[n] = int(student_heights)
  height_sum=height_sum+student_heights[n]
  count=count+1
average_height=height_sum/count
print(average_height)