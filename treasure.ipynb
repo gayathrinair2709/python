# 🚨 Don't change the code below 👇
row1 = ["⬜️","⬜️","⬜️"]
row2 = ["⬜️","⬜️","⬜️"]
row3 = ["⬜️","⬜️","⬜️"]
map = [row1, row2, row3]
print(f"{row1}\n{row2}\n{row3}")
position = input("Where do you want to put the treasure? ")


treasure=position.split()
a=int(treasure[0])
b=int(treasure[1])
map[a][b]='x'

print(f"{row1}\n{row2}\n{row3}")