#finding the sum of even numbers in the range 1 to 100
total=0
for even in range(1,101):
  if even%2==0:
    total+=even
print(f'totalof even numbers between  1 and 100 is {total}')
#finding the sum of even numbers in the range 1 to 100
for even in range(1,101,2):
  if even%2==0:
    total+=even
print(f'totalof even numbers between 1 and 100 is {total}')